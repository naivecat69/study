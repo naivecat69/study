{
 "cells": [
  {
   "cell_type": "markdown",
   "id": "d299dab1",
   "metadata": {},
   "source": [
    "\n",
    "# QPSK 신호 제원 측정 실습 (NumPy/Scipy, Jupyter)\n",
    "\n",
    "이 노트북은 **수신 QPSK 패스밴드 신호**에서 다음 제원을 추정하는 과정을 단계별로 설명하고 재현합니다.\n",
    "\n",
    "- 반송파 주파수 \\(f_c\\)  \n",
    "- 점유대역폭(여기서는 **99% 전력 대역폭**)  \n",
    "- 전송속도(심볼율 \\(R_s\\)) 및 **samples per symbol (sps)**  \n",
    "- (보너스) 복소 베이스밴드 변환 후 **별자리도(컨스텔레이션)**\n",
    "\n",
    "> ⚙️ 그래프는 `matplotlib`만 사용하며, 스타일/색은 지정하지 않습니다.\n"
   ]
  },
  {
   "cell_type": "code",
   "execution_count": 1,
   "id": "c0cbbb95",
   "metadata": {},
   "outputs": [],
   "source": [
    "\n",
    "import numpy as np\n",
    "import matplotlib.pyplot as plt\n",
    "from pathlib import Path\n",
    "from scipy.fft import rfft, rfftfreq\n",
    "from scipy.signal import welch, butter, sosfiltfilt\n"
   ]
  },
  {
   "cell_type": "markdown",
   "id": "2cf153c3",
   "metadata": {},
   "source": [
    "\n",
    "## 0) 데이터 준비\n",
    "\n",
    "이전 단계에서 만든 `qpsk_sample_data.npz`를 불러옵니다.  \n",
    "세션에 파일이 없다면 **동일한 파라미터**로 즉석 생성합니다.\n"
   ]
  },
  {
   "cell_type": "code",
   "execution_count": 2,
   "id": "c2571afb",
   "metadata": {},
   "outputs": [
    {
     "ename": "FileNotFoundError",
     "evalue": "[Errno 2] No such file or directory: '\\\\mnt\\\\data\\\\qpsk_sample_data.npz'",
     "output_type": "error",
     "traceback": [
      "\u001b[1;31m---------------------------------------------------------------------------\u001b[0m",
      "\u001b[1;31mFileNotFoundError\u001b[0m                         Traceback (most recent call last)",
      "Cell \u001b[1;32mIn[2], line 3\u001b[0m\n\u001b[0;32m      1\u001b[0m path \u001b[38;5;241m=\u001b[39m Path(\u001b[38;5;124m'\u001b[39m\u001b[38;5;124m/mnt/data/qpsk_sample_data.npz\u001b[39m\u001b[38;5;124m'\u001b[39m)\n\u001b[1;32m----> 3\u001b[0m data \u001b[38;5;241m=\u001b[39m np\u001b[38;5;241m.\u001b[39mload(path)\n\u001b[0;32m      4\u001b[0m x \u001b[38;5;241m=\u001b[39m data[\u001b[38;5;124m'\u001b[39m\u001b[38;5;124mqpsk_noisy\u001b[39m\u001b[38;5;124m'\u001b[39m]\n\u001b[0;32m      5\u001b[0m fs \u001b[38;5;241m=\u001b[39m \u001b[38;5;28mfloat\u001b[39m(data[\u001b[38;5;124m'\u001b[39m\u001b[38;5;124mfs\u001b[39m\u001b[38;5;124m'\u001b[39m])\n",
      "File \u001b[1;32m~\\anaconda3\\Lib\\site-packages\\numpy\\lib\\_npyio_impl.py:451\u001b[0m, in \u001b[0;36mload\u001b[1;34m(file, mmap_mode, allow_pickle, fix_imports, encoding, max_header_size)\u001b[0m\n\u001b[0;32m    449\u001b[0m     own_fid \u001b[38;5;241m=\u001b[39m \u001b[38;5;28;01mFalse\u001b[39;00m\n\u001b[0;32m    450\u001b[0m \u001b[38;5;28;01melse\u001b[39;00m:\n\u001b[1;32m--> 451\u001b[0m     fid \u001b[38;5;241m=\u001b[39m stack\u001b[38;5;241m.\u001b[39menter_context(\u001b[38;5;28mopen\u001b[39m(os\u001b[38;5;241m.\u001b[39mfspath(file), \u001b[38;5;124m\"\u001b[39m\u001b[38;5;124mrb\u001b[39m\u001b[38;5;124m\"\u001b[39m))\n\u001b[0;32m    452\u001b[0m     own_fid \u001b[38;5;241m=\u001b[39m \u001b[38;5;28;01mTrue\u001b[39;00m\n\u001b[0;32m    454\u001b[0m \u001b[38;5;66;03m# Code to distinguish from NumPy binary files and pickles.\u001b[39;00m\n",
      "\u001b[1;31mFileNotFoundError\u001b[0m: [Errno 2] No such file or directory: '\\\\mnt\\\\data\\\\qpsk_sample_data.npz'"
     ]
    }
   ],
   "source": [
    "\n",
    "path = Path('/mnt/data/qpsk_sample_data.npz')\n",
    "\n",
    "data = np.load(path)\n",
    "x = data['qpsk_noisy']\n",
    "fs = float(data['fs'])\n",
    "t = data['t']\n",
    "gt_fc = float(data['fc']) if 'fc' in data else np.nan\n",
    "gt_Rs = float(data['symbol_rate']) if 'symbol_rate' in data else np.nan\n",
    "\n",
    "N = len(x)\n",
    "print(f'Loaded: N={N}, fs={fs} Hz, duration={N/fs:.3f} s')"
   ]
  },
  {
   "cell_type": "markdown",
   "id": "2552477b",
   "metadata": {},
   "source": [
    "\n",
    "## 1) 시간영역 파형 확인\n"
   ]
  },
  {
   "cell_type": "code",
   "execution_count": 3,
   "id": "12809b95",
   "metadata": {},
   "outputs": [
    {
     "ename": "NameError",
     "evalue": "name 'N' is not defined",
     "output_type": "error",
     "traceback": [
      "\u001b[1;31m---------------------------------------------------------------------------\u001b[0m",
      "\u001b[1;31mNameError\u001b[0m                                 Traceback (most recent call last)",
      "Cell \u001b[1;32mIn[3], line 1\u001b[0m\n\u001b[1;32m----> 1\u001b[0m L \u001b[38;5;241m=\u001b[39m \u001b[38;5;28mmin\u001b[39m(\u001b[38;5;241m4000\u001b[39m, N)\n\u001b[0;32m      2\u001b[0m plt\u001b[38;5;241m.\u001b[39mfigure()\n\u001b[0;32m      3\u001b[0m plt\u001b[38;5;241m.\u001b[39mplot(t[:L], x[:L])\n",
      "\u001b[1;31mNameError\u001b[0m: name 'N' is not defined"
     ]
    }
   ],
   "source": [
    "\n",
    "L = min(4000, N)\n",
    "plt.figure()\n",
    "plt.plot(t[:L], x[:L])\n",
    "plt.xlabel('Time [s]'); plt.ylabel('Amplitude')\n",
    "plt.title('Received passband (first segment)')\n",
    "plt.show()"
   ]
  },
  {
   "cell_type": "markdown",
   "id": "6b8f7e65",
   "metadata": {},
   "source": [
    "\n",
    "## 2) FFT 기반 반송파 주파수 \\(f_c\\) 추정\n"
   ]
  },
  {
   "cell_type": "code",
   "execution_count": null,
   "id": "a3cdb21d",
   "metadata": {},
   "outputs": [],
   "source": [
    "\n",
    "X = rfft(x) / N\n",
    "f = rfftfreq(N, 1/fs)\n",
    "amp = np.abs(X)\n",
    "\n",
    "k = 1 + np.argmax(amp[1:])\n",
    "if 1 <= k < len(amp)-1:\n",
    "    a, b, c = amp[k-1], amp[k], amp[k+1]\n",
    "    dk = 0.5*(a - c)/(a - 2*b + c)\n",
    "else:\n",
    "    dk = 0.0\n",
    "fc_est = f[k] + dk*(f[1]-f[0])\n",
    "print(f\"fc estimate = {fc_est:.2f} Hz (true {gt_fc if not np.isnan(gt_fc) else 'N/A'})\")\n",
    "\n",
    "plt.figure()\n",
    "plt.plot(f, amp)\n",
    "plt.xlabel('Frequency [Hz]'); plt.ylabel('Amplitude')\n",
    "plt.title('Amplitude Spectrum (one-sided)')\n",
    "plt.xlim(0, fs/2)\n",
    "plt.show()"
   ]
  },
  {
   "cell_type": "markdown",
   "id": "219a4637",
   "metadata": {},
   "source": [
    "\n",
    "## 3) Welch PSD와 **99% 점유대역폭**\n"
   ]
  },
  {
   "cell_type": "code",
   "execution_count": null,
   "id": "d41e39bb",
   "metadata": {},
   "outputs": [],
   "source": [
    "\n",
    "nperseg = min(1024, N)\n",
    "noverlap = int(0.5*nperseg) if nperseg > 1 else 0\n",
    "f_psd, Pxx = welch(x, fs=fs, nperseg=nperseg, noverlap=noverlap, window='hann', scaling='density')\n",
    "\n",
    "offset = f_psd - fc_est\n",
    "power_total = np.trapz(Pxx, f_psd)\n",
    "order = np.argsort(np.abs(offset))\n",
    "\n",
    "cum = 0.0\n",
    "sel = []\n",
    "for idx in order:\n",
    "    sel.append(idx)\n",
    "    ii = np.array(sorted(sel))\n",
    "    cum = np.trapz(Pxx[ii], f_psd[ii])\n",
    "    if cum >= 0.99*power_total:\n",
    "        BW_est = f_psd[ii].max() - f_psd[ii].min()\n",
    "        break\n",
    "\n",
    "print(f\"99% Occupied BW ≈ {BW_est:.2f} Hz\")\n",
    "\n",
    "plt.figure()\n",
    "plt.semilogy(f_psd, Pxx)\n",
    "plt.xlabel('Frequency [Hz]'); plt.ylabel('PSD')\n",
    "plt.title('Welch PSD')\n",
    "plt.show()"
   ]
  },
  {
   "cell_type": "markdown",
   "id": "6430b2a7",
   "metadata": {},
   "source": [
    "\n",
    "## 4) 전송속도(심볼율 \\(R_s\\)) 추정\n"
   ]
  },
  {
   "cell_type": "code",
   "execution_count": null,
   "id": "7dc6604e",
   "metadata": {},
   "outputs": [],
   "source": [
    "\n",
    "beta_guess = 0.35\n",
    "Rs_est = BW_est / (1.0 + beta_guess)\n",
    "sps_est = fs / Rs_est\n",
    "print(f\"Rs estimate  ≈ {Rs_est:.2f} baud (true {gt_Rs if not np.isnan(gt_Rs) else 'N/A'})\")\n",
    "print(f\"samples/sym ≈ {sps_est:.2f}\")"
   ]
  },
  {
   "cell_type": "markdown",
   "id": "5f5fa7cc",
   "metadata": {},
   "source": [
    "\n",
    "## 5) 복소 베이스밴드 변환 & 저역통과\n"
   ]
  },
  {
   "cell_type": "code",
   "execution_count": null,
   "id": "c69c0ae4",
   "metadata": {},
   "outputs": [],
   "source": [
    "\n",
    "n = np.arange(N)\n",
    "lo = np.exp(-1j*2*np.pi*fc_est*n/fs)\n",
    "bb = x * lo\n",
    "\n",
    "lp_cut = 0.6 * (1.0+beta_guess) * Rs_est / 2.0\n",
    "lp_cut = max(500.0, min(lp_cut, fs*0.45))\n",
    "sos = butter(8, lp_cut, btype='low', fs=fs, output='sos')\n",
    "bb_filt = sosfiltfilt(sos, bb)\n",
    "\n",
    "plt.figure()\n",
    "plt.plot(np.real(bb_filt[:2000]))\n",
    "plt.xlabel('Sample'); plt.ylabel('I (real)')\n",
    "plt.title('Baseband I (first 2000 samples)')\n",
    "plt.show()\n",
    "\n",
    "plt.figure()\n",
    "plt.plot(np.imag(bb_filt[:2000]))\n",
    "plt.xlabel('Sample'); plt.ylabel('Q (imag)')\n",
    "plt.title('Baseband Q (first 2000 samples)')\n",
    "plt.show()"
   ]
  },
  {
   "cell_type": "markdown",
   "id": "b628c84b",
   "metadata": {},
   "source": [
    "\n",
    "## 6) 심볼 타이밍 대략 추정 & **컨스텔레이션**\n"
   ]
  },
  {
   "cell_type": "code",
   "execution_count": null,
   "id": "a4cc81a1",
   "metadata": {},
   "outputs": [],
   "source": [
    "\n",
    "sps_int = max(2, int(np.round(sps_est)))\n",
    "best_off, best_eng = 0, -1.0\n",
    "for off in range(sps_int):\n",
    "    samp = bb_filt[off::sps_int]\n",
    "    eng = np.mean(np.abs(samp[:500])**2)\n",
    "    if eng > best_eng:\n",
    "        best_eng, best_off = eng, off\n",
    "sym = bb_filt[best_off::sps_int]\n",
    "\n",
    "I = np.real(sym[:2000])\n",
    "Q = np.imag(sym[:2000])\n",
    "\n",
    "plt.figure()\n",
    "plt.scatter(I, Q, s=10)\n",
    "plt.xlabel('I'); plt.ylabel('Q')\n",
    "plt.title('Constellation (rough timing)')\n",
    "plt.axis('equal')\n",
    "plt.show()"
   ]
  },
  {
   "cell_type": "markdown",
   "id": "b0240353",
   "metadata": {},
   "source": [
    "\n",
    "## 7) 정확도 향상 옵션: 고분해능 fc & 임계치 대역폭\n"
   ]
  },
  {
   "cell_type": "code",
   "execution_count": null,
   "id": "aca5402e",
   "metadata": {},
   "outputs": [],
   "source": [
    "\n",
    "pad = 16\n",
    "Xz = rfft(x, n=pad*N) / N\n",
    "fz = rfftfreq(pad*N, 1/fs)\n",
    "ampz = np.abs(Xz)\n",
    "kz = 1 + np.argmax(ampz[1:])\n",
    "if 1 <= kz < len(ampz)-1:\n",
    "    a,b,c = ampz[kz-1], ampz[kz], ampz[kz+1]\n",
    "    dkz = 0.5*(a - c)/(a - 2*b + c)\n",
    "else:\n",
    "    dkz = 0.0\n",
    "fc_hi = fz[kz] + dkz*(fz[1]-fz[0])\n",
    "print(f\"High-res fc ≈ {fc_hi:.2f} Hz\")\n",
    "\n",
    "peak = np.max(ampz)\n",
    "th = peak / (10**(20/20))  # -20 dB\n",
    "idx = np.where(ampz >= th)[0]\n",
    "BW_20dB = fz[idx].max() - fz[idx].min()\n",
    "print(f'-20 dB bandwidth ≈ {BW_20dB:.2f} Hz')\n",
    "\n",
    "plt.figure()\n",
    "plt.plot(fz, ampz)\n",
    "plt.axvline(fc_hi, linestyle='--')\n",
    "plt.xlabel('Frequency [Hz]'); plt.ylabel('Amplitude')\n",
    "plt.title('High-res Spectrum & -20 dB bandwidth')\n",
    "plt.xlim(0, fs/2)\n",
    "plt.show()"
   ]
  }
 ],
 "metadata": {
  "kernelspec": {
   "display_name": "Python 3 (ipykernel)",
   "language": "python",
   "name": "python3"
  },
  "language_info": {
   "codemirror_mode": {
    "name": "ipython",
    "version": 3
   },
   "file_extension": ".py",
   "mimetype": "text/x-python",
   "name": "python",
   "nbconvert_exporter": "python",
   "pygments_lexer": "ipython3",
   "version": "3.11.5"
  }
 },
 "nbformat": 4,
 "nbformat_minor": 5
}
