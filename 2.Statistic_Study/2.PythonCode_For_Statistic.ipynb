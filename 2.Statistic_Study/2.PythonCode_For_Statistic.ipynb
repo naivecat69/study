{
 "cells": [
  {
   "metadata": {},
   "cell_type": "markdown",
   "source": [
    "# Numpy,Pandas,Scipy를 활용한 통계학 기반 데이터 분석 가이드\n",
    "\n",
    "##### Author: JHan"
   ],
   "id": "e4444de7233ef8d7"
  },
  {
   "metadata": {},
   "cell_type": "markdown",
   "source": "-----",
   "id": "4ecb18646f71b1c9"
  },
  {
   "cell_type": "code",
   "id": "initial_id",
   "metadata": {
    "collapsed": true,
    "ExecuteTime": {
     "end_time": "2025-09-11T09:17:14.454278Z",
     "start_time": "2025-09-11T09:17:13.884058Z"
    }
   },
   "source": [
    "# package import\n",
    "import numpy as np\n",
    "import pandas as pd\n",
    "import scipy\n",
    "import matplotlib.pyplot as plt\n",
    "%matplotlib inline"
   ],
   "outputs": [],
   "execution_count": 2
  },
  {
   "metadata": {},
   "cell_type": "markdown",
   "source": [
    "* Numpy\n",
    "-----"
   ],
   "id": "2e0f1f6365ec32f8"
  },
  {
   "metadata": {
    "ExecuteTime": {
     "end_time": "2025-09-11T09:17:15.668964Z",
     "start_time": "2025-09-11T09:17:15.664345Z"
    }
   },
   "cell_type": "code",
   "source": [
    "arr1 = np.arange(0, 100)\n",
    "# arr1 = array([1,2,3....98,99])\n",
    "arr2 = np.linspace(0, 2*np.pi, 100)\n",
    "arr2 = np.sin(arr2)\n",
    "arr3 = arr1[::-1] # arr1의 역순 배열 생성\n",
    "# 예시를 위한 array1 및 arr2 (0~2pi sin함수) 생성"
   ],
   "id": "60845d486fead3ca",
   "outputs": [],
   "execution_count": 3
  },
  {
   "metadata": {
    "ExecuteTime": {
     "end_time": "2025-09-04T23:22:06.322954Z",
     "start_time": "2025-09-04T23:22:06.318315Z"
    }
   },
   "cell_type": "code",
   "source": "arr3",
   "id": "a37ff2a024d05323",
   "outputs": [
    {
     "data": {
      "text/plain": [
       "array([], dtype=int64)"
      ]
     },
     "execution_count": 59,
     "metadata": {},
     "output_type": "execute_result"
    }
   ],
   "execution_count": 59
  },
  {
   "metadata": {
    "ExecuteTime": {
     "end_time": "2025-09-04T23:07:10.485999Z",
     "start_time": "2025-09-04T23:07:10.482242Z"
    }
   },
   "cell_type": "code",
   "source": [
    "np.mean(arr1) # out: np.float64(50.)\n",
    "np.var(arr1) # out: np.float(833.25)\n",
    "np.std(arr1) # out: np.float(28.866)\n",
    "np.sqrt(np.var(arr1)) # out: np.float(28,866)"
   ],
   "id": "3d81b6e67e46aeca",
   "outputs": [],
   "execution_count": 50
  },
  {
   "metadata": {
    "ExecuteTime": {
     "end_time": "2025-09-04T23:04:53.603155Z",
     "start_time": "2025-09-04T23:04:53.600160Z"
    }
   },
   "cell_type": "markdown",
   "source": [
    "기본적인 함수로서 np.mean은 평균, np.var는 분산(데이터가 평균으로부터 얼마나 퍼져있는지를 나타내는 척도)\n",
    "np.std는 표준편차 (분산의 제곱근 // np.std == np.sqrt(np.var))"
   ],
   "id": "ac6d0469b600f90e"
  },
  {
   "metadata": {
    "ExecuteTime": {
     "end_time": "2025-09-04T23:17:46.441231Z",
     "start_time": "2025-09-04T23:17:46.438606Z"
    }
   },
   "cell_type": "code",
   "source": [
    "#np.median(arr1) == np.percentile(arr1, 50)\n",
    "\n",
    "#np.median은 중앙값을 반환해주며\n",
    "#np.percentile(array, q)는 q 백분위에 해당되는 값을 계산해서 반환해줌\n",
    "\n",
    "np.min(arr1)\n",
    "np.max(arr1)\n",
    "np.ptp(arr1) # == np.max - np.min, peak to peak"
   ],
   "id": "b93a0608d1e75de2",
   "outputs": [
    {
     "data": {
      "text/plain": [
       "np.int64(99)"
      ]
     },
     "execution_count": 55,
     "metadata": {},
     "output_type": "execute_result"
    }
   ],
   "execution_count": 55
  },
  {
   "metadata": {
    "ExecuteTime": {
     "end_time": "2025-09-04T23:33:44.222041Z",
     "start_time": "2025-09-04T23:33:44.216406Z"
    }
   },
   "cell_type": "code",
   "source": "np.cov(arr1, arr3)",
   "id": "1bddfe181e8e5ab9",
   "outputs": [
    {
     "data": {
      "text/plain": [
       "array([[ 841.66666667, -841.66666667],\n",
       "       [-841.66666667,  841.66666667]])"
      ]
     },
     "execution_count": 72,
     "metadata": {},
     "output_type": "execute_result"
    }
   ],
   "execution_count": 72
  },
  {
   "metadata": {},
   "cell_type": "markdown",
   "source": [
    "\n",
    "![cov](../../cov.png)"
   ],
   "id": "362f8aea771bef35"
  },
  {
   "metadata": {},
   "cell_type": "markdown",
   "source": [
    "np.cov를 통해 얻어지는 array의 의미는 사진과 같음\n",
    "공분산이 양수면 양의 선형관계, 음수면 음의 선형관계를 가진다는 의미"
   ],
   "id": "1284bdffa8d66df5"
  },
  {
   "metadata": {
    "ExecuteTime": {
     "end_time": "2025-09-04T23:43:06.601223Z",
     "start_time": "2025-09-04T23:43:06.595633Z"
    }
   },
   "cell_type": "code",
   "source": "np.corrcoef(arr1, arr3)",
   "id": "52796cf5f96723c0",
   "outputs": [
    {
     "data": {
      "text/plain": [
       "array([[ 1., -1.],\n",
       "       [-1.,  1.]])"
      ]
     },
     "execution_count": 74,
     "metadata": {},
     "output_type": "execute_result"
    }
   ],
   "execution_count": 74
  },
  {
   "metadata": {},
   "cell_type": "markdown",
   "source": [
    "np.corrcoef는 피어슨 상관계수 행렬을 이용하여 두 변수 간 선형 상관도를 측정함.\n",
    "arr3 변수는 arr1변수의 역순 행렬이므로 -1인 강한 음의 상관관계를 가지며 이를 correcoef로 판별할수있음"
   ],
   "id": "299e79eca06b7176"
  },
  {
   "metadata": {
    "ExecuteTime": {
     "end_time": "2025-09-04T23:58:36.996171Z",
     "start_time": "2025-09-04T23:58:36.992412Z"
    }
   },
   "cell_type": "code",
   "source": [
    "np.ndarray((2,3,4), dtype='int8')\n",
    "\n",
    "#np. ndarray를 이용하여 다차원 행렬을 생성할수 있음."
   ],
   "id": "81d7c15d9c490712",
   "outputs": [
    {
     "data": {
      "text/plain": [
       "array([[[0, 0, 0, 0],\n",
       "        [0, 0, 0, 0],\n",
       "        [0, 0, 0, 0]],\n",
       "\n",
       "       [[0, 0, 0, 0],\n",
       "        [0, 0, 0, 0],\n",
       "        [0, 0, 0, 0]]], dtype=int8)"
      ]
     },
     "execution_count": 104,
     "metadata": {},
     "output_type": "execute_result"
    }
   ],
   "execution_count": 104
  },
  {
   "metadata": {
    "ExecuteTime": {
     "end_time": "2025-09-04T23:59:32.649816Z",
     "start_time": "2025-09-04T23:59:32.646693Z"
    }
   },
   "cell_type": "code",
   "source": "arr1[0:10]",
   "id": "c1a9e85055c6bc7",
   "outputs": [
    {
     "data": {
      "text/plain": [
       "array([0, 1, 2, 3, 4, 5, 6, 7, 8, 9])"
      ]
     },
     "execution_count": 106,
     "metadata": {},
     "output_type": "execute_result"
    }
   ],
   "execution_count": 106
  },
  {
   "metadata": {},
   "cell_type": "markdown",
   "source": "* numpy array에 대한 연산을 시행할경우 루프문 없이도 각 vector에 자동적으로 연산을 수행함",
   "id": "9d9c9d9e566b2258"
  },
  {
   "metadata": {
    "ExecuteTime": {
     "end_time": "2025-09-05T00:00:34.983500Z",
     "start_time": "2025-09-05T00:00:34.978762Z"
    }
   },
   "cell_type": "code",
   "source": "arr1[0:10] * 1.1",
   "id": "ede459905098b437",
   "outputs": [
    {
     "data": {
      "text/plain": [
       "array([0. , 1.1, 2.2, 3.3, 4.4, 5.5, 6.6, 7.7, 8.8, 9.9])"
      ]
     },
     "execution_count": 109,
     "metadata": {},
     "output_type": "execute_result"
    }
   ],
   "execution_count": 109
  },
  {
   "metadata": {
    "ExecuteTime": {
     "end_time": "2025-09-11T09:17:19.571185Z",
     "start_time": "2025-09-11T09:17:19.567287Z"
    }
   },
   "cell_type": "code",
   "source": "arr4 = np.array([0,0,-1,0,0,0,1,0], dtype='int8')",
   "id": "ea41f0425854ae38",
   "outputs": [],
   "execution_count": 4
  },
  {
   "metadata": {
    "ExecuteTime": {
     "end_time": "2025-09-05T00:02:44.550670Z",
     "start_time": "2025-09-05T00:02:44.545905Z"
    }
   },
   "cell_type": "code",
   "source": [
    "arr4.argmax()\n",
    "# array내 가장 큰 vector의 index값을 반환해줌, 제일 작은 값은 argmin을 사용"
   ],
   "id": "f0fcf3dc26ad41c5",
   "outputs": [
    {
     "data": {
      "text/plain": [
       "np.int64(6)"
      ]
     },
     "execution_count": 118,
     "metadata": {},
     "output_type": "execute_result"
    }
   ],
   "execution_count": 118
  },
  {
   "metadata": {
    "ExecuteTime": {
     "end_time": "2025-09-11T09:17:27.715961Z",
     "start_time": "2025-09-11T09:17:27.712261Z"
    }
   },
   "cell_type": "markdown",
   "source": [
    "### 정규화와 표준화\n",
    "---------"
   ],
   "id": "856dbf4c7a49a920"
  },
  {
   "metadata": {
    "ExecuteTime": {
     "end_time": "2025-09-11T23:52:28.937343Z",
     "start_time": "2025-09-11T23:52:28.934678Z"
    }
   },
   "cell_type": "code",
   "source": [
    "# 정규화: 각 특성값을 최소 0, 최대 1 범위로 변환\n",
    "arrtest = np.array([3,7,5,3,11,2,1,4,0,0,5])\n",
    "\n",
    "arrtest = ((arrtest - arrtest.min()) / (arrtest.max() - arrtest.min()))"
   ],
   "id": "e6667e896e3947ad",
   "outputs": [],
   "execution_count": 15
  },
  {
   "metadata": {
    "ExecuteTime": {
     "end_time": "2025-09-11T23:52:29.638324Z",
     "start_time": "2025-09-11T23:52:29.633237Z"
    }
   },
   "cell_type": "code",
   "source": "arrtest",
   "id": "2ce2947770e00c2d",
   "outputs": [
    {
     "data": {
      "text/plain": [
       "array([0.27272727, 0.63636364, 0.45454545, 0.27272727, 1.        ,\n",
       "       0.18181818, 0.09090909, 0.36363636, 0.        , 0.        ,\n",
       "       0.45454545])"
      ]
     },
     "execution_count": 16,
     "metadata": {},
     "output_type": "execute_result"
    }
   ],
   "execution_count": 16
  },
  {
   "metadata": {
    "ExecuteTime": {
     "end_time": "2025-09-12T00:20:46.318083Z",
     "start_time": "2025-09-12T00:20:46.314960Z"
    }
   },
   "cell_type": "code",
   "source": [
    "# 표준화: 데이터의 평균을 0, 표준편차를 1로 스케일링\n",
    "arrtest = np.array([3,7,5,3,11,2,1,4,0,0,5])\n",
    "\n",
    "arrtest = (arrtest - arrtest.mean()) / arrtest.std()"
   ],
   "id": "5b3a3e8afd216264",
   "outputs": [],
   "execution_count": 17
  },
  {
   "metadata": {
    "ExecuteTime": {
     "end_time": "2025-09-12T00:20:57.094194Z",
     "start_time": "2025-09-12T00:20:57.090459Z"
    }
   },
   "cell_type": "code",
   "source": [
    "arrtest.mean()\n",
    "# 평균은 0에 수렴함"
   ],
   "id": "b84fcacf8e2f9f0b",
   "outputs": [
    {
     "data": {
      "text/plain": [
       "np.float64(3.532527805625498e-17)"
      ]
     },
     "execution_count": 19,
     "metadata": {},
     "output_type": "execute_result"
    }
   ],
   "execution_count": 19
  },
  {
   "metadata": {
    "ExecuteTime": {
     "end_time": "2025-09-12T00:21:03.430185Z",
     "start_time": "2025-09-12T00:21:03.427628Z"
    }
   },
   "cell_type": "code",
   "source": [
    "arrtest.std()\n",
    "# 표준편차는 0"
   ],
   "id": "f03e5838f412b1cd",
   "outputs": [
    {
     "data": {
      "text/plain": [
       "np.float64(1.0)"
      ]
     },
     "execution_count": 20,
     "metadata": {},
     "output_type": "execute_result"
    }
   ],
   "execution_count": 20
  },
  {
   "metadata": {},
   "cell_type": "markdown",
   "source": [
    "### Scipy\n",
    "------"
   ],
   "id": "22beac1ddcbdf602"
  },
  {
   "metadata": {
    "ExecuteTime": {
     "end_time": "2025-09-12T00:49:23.711455Z",
     "start_time": "2025-09-12T00:49:23.707080Z"
    }
   },
   "cell_type": "code",
   "source": [
    "#scipy.stats\n",
    "from scipy import stats\n",
    "arrtest = np.array([3,7,5,3,11,2,1,4,0,0,5])\n",
    "stats.describe(arrtest)"
   ],
   "id": "f4b2631401236351",
   "outputs": [
    {
     "data": {
      "text/plain": [
       "DescribeResult(nobs=np.int64(11), minmax=(np.int64(0), np.int64(11)), mean=np.float64(3.727272727272727), variance=np.float64(10.618181818181819), skewness=np.float64(0.8914867859849113), kurtosis=np.float64(0.2863547335334964))"
      ]
     },
     "execution_count": 24,
     "metadata": {},
     "output_type": "execute_result"
    }
   ],
   "execution_count": 24
  },
  {
   "metadata": {
    "ExecuteTime": {
     "end_time": "2025-09-12T01:05:31.633728Z",
     "start_time": "2025-09-12T01:05:31.630871Z"
    }
   },
   "cell_type": "code",
   "source": "stats.binomtest(1, 10)",
   "id": "89112214a3e6e77",
   "outputs": [
    {
     "data": {
      "text/plain": [
       "BinomTestResult(k=1, n=10, alternative='two-sided', statistic=0.1, pvalue=0.021484375)"
      ]
     },
     "execution_count": 35,
     "metadata": {},
     "output_type": "execute_result"
    }
   ],
   "execution_count": 35
  },
  {
   "metadata": {},
   "cell_type": "code",
   "outputs": [],
   "execution_count": null,
   "source": "",
   "id": "37b829ebd881aee7"
  }
 ],
 "metadata": {
  "kernelspec": {
   "display_name": "Python 3",
   "language": "python",
   "name": "python3"
  },
  "language_info": {
   "codemirror_mode": {
    "name": "ipython",
    "version": 2
   },
   "file_extension": ".py",
   "mimetype": "text/x-python",
   "name": "python",
   "nbconvert_exporter": "python",
   "pygments_lexer": "ipython2",
   "version": "2.7.6"
  }
 },
 "nbformat": 4,
 "nbformat_minor": 5
}
