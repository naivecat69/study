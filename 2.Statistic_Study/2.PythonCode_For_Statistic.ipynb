{
 "cells": [
  {
   "metadata": {},
   "cell_type": "markdown",
   "source": [
    "# Numpy,Pandas,Scipy를 활용한 통계학 기반 데이터 분석 가이드\n",
    "\n",
    "##### Author: JHan"
   ],
   "id": "e4444de7233ef8d7"
  },
  {
   "metadata": {},
   "cell_type": "markdown",
   "source": "-----",
   "id": "4ecb18646f71b1c9"
  },
  {
   "cell_type": "code",
   "id": "initial_id",
   "metadata": {
    "collapsed": true,
    "ExecuteTime": {
     "end_time": "2025-09-04T22:50:28.236197Z",
     "start_time": "2025-09-04T22:50:28.186093Z"
    }
   },
   "source": [
    "# package import\n",
    "import numpy as np\n",
    "import pandas as pd\n",
    "import scipy\n",
    "import matplotlib.pyplot as plt\n",
    "%matplotlib inline"
   ],
   "outputs": [],
   "execution_count": 8
  },
  {
   "metadata": {},
   "cell_type": "markdown",
   "source": [
    "* Numpy\n",
    "-----"
   ],
   "id": "2e0f1f6365ec32f8"
  },
  {
   "metadata": {
    "ExecuteTime": {
     "end_time": "2025-09-04T23:22:48.861762Z",
     "start_time": "2025-09-04T23:22:48.857350Z"
    }
   },
   "cell_type": "code",
   "source": [
    "arr1 = np.arange(0, 100)\n",
    "# arr1 = array([1,2,3....98,99])\n",
    "arr2 = np.linspace(0, 2*np.pi, 100)\n",
    "arr2 = np.sin(arr2)\n",
    "arr3 = arr1[::-1] # arr1의 역순 배열 생성\n",
    "# 예시를 위한 array1 및 arr2 (0~2pi sin함수) 생성"
   ],
   "id": "60845d486fead3ca",
   "outputs": [],
   "execution_count": 60
  },
  {
   "metadata": {
    "ExecuteTime": {
     "end_time": "2025-09-04T23:22:06.322954Z",
     "start_time": "2025-09-04T23:22:06.318315Z"
    }
   },
   "cell_type": "code",
   "source": "arr3",
   "id": "a37ff2a024d05323",
   "outputs": [
    {
     "data": {
      "text/plain": [
       "array([], dtype=int64)"
      ]
     },
     "execution_count": 59,
     "metadata": {},
     "output_type": "execute_result"
    }
   ],
   "execution_count": 59
  },
  {
   "metadata": {
    "ExecuteTime": {
     "end_time": "2025-09-04T23:07:10.485999Z",
     "start_time": "2025-09-04T23:07:10.482242Z"
    }
   },
   "cell_type": "code",
   "source": [
    "np.mean(arr1) # out: np.float64(50.)\n",
    "np.var(arr1) # out: np.float(833.25)\n",
    "np.std(arr1) # out: np.float(28.866)\n",
    "np.sqrt(np.var(arr1)) # out: np.float(28,866)"
   ],
   "id": "3d81b6e67e46aeca",
   "outputs": [],
   "execution_count": 50
  },
  {
   "metadata": {
    "ExecuteTime": {
     "end_time": "2025-09-04T23:04:53.603155Z",
     "start_time": "2025-09-04T23:04:53.600160Z"
    }
   },
   "cell_type": "markdown",
   "source": [
    "기본적인 함수로서 np.mean은 평균, np.var는 분산(데이터가 평균으로부터 얼마나 퍼져있는지를 나타내는 척도)\n",
    "np.std는 표준편차 (분산의 제곱근 // np.std == np.sqrt(np.var))"
   ],
   "id": "ac6d0469b600f90e"
  },
  {
   "metadata": {
    "ExecuteTime": {
     "end_time": "2025-09-04T23:17:46.441231Z",
     "start_time": "2025-09-04T23:17:46.438606Z"
    }
   },
   "cell_type": "code",
   "source": [
    "#np.median(arr1) == np.percentile(arr1, 50)\n",
    "\n",
    "#np.median은 중앙값을 반환해주며\n",
    "#np.percentile(array, q)는 q 백분위에 해당되는 값을 계산해서 반환해줌\n",
    "\n",
    "np.min(arr1)\n",
    "np.max(arr1)\n",
    "np.ptp(arr1) # == np.max - np.min, peak to peak"
   ],
   "id": "b93a0608d1e75de2",
   "outputs": [
    {
     "data": {
      "text/plain": [
       "np.int64(99)"
      ]
     },
     "execution_count": 55,
     "metadata": {},
     "output_type": "execute_result"
    }
   ],
   "execution_count": 55
  },
  {
   "metadata": {
    "ExecuteTime": {
     "end_time": "2025-09-04T23:33:44.222041Z",
     "start_time": "2025-09-04T23:33:44.216406Z"
    }
   },
   "cell_type": "code",
   "source": "np.cov(arr1, arr3)",
   "id": "1bddfe181e8e5ab9",
   "outputs": [
    {
     "data": {
      "text/plain": [
       "array([[ 841.66666667, -841.66666667],\n",
       "       [-841.66666667,  841.66666667]])"
      ]
     },
     "execution_count": 72,
     "metadata": {},
     "output_type": "execute_result"
    }
   ],
   "execution_count": 72
  },
  {
   "metadata": {},
   "cell_type": "markdown",
   "source": [
    "\n",
    "![cov](../../cov.png)"
   ],
   "id": "362f8aea771bef35"
  },
  {
   "metadata": {},
   "cell_type": "markdown",
   "source": [
    "np.cov를 통해 얻어지는 array의 의미는 사진과 같음\n",
    "공분산이 양수면 양의 선형관계, 음수면 음의 선형관계를 가진다는 의미"
   ],
   "id": "1284bdffa8d66df5"
  },
  {
   "metadata": {
    "ExecuteTime": {
     "end_time": "2025-09-04T23:43:06.601223Z",
     "start_time": "2025-09-04T23:43:06.595633Z"
    }
   },
   "cell_type": "code",
   "source": "np.corrcoef(arr1, arr3)",
   "id": "52796cf5f96723c0",
   "outputs": [
    {
     "data": {
      "text/plain": [
       "array([[ 1., -1.],\n",
       "       [-1.,  1.]])"
      ]
     },
     "execution_count": 74,
     "metadata": {},
     "output_type": "execute_result"
    }
   ],
   "execution_count": 74
  },
  {
   "metadata": {},
   "cell_type": "markdown",
   "source": [
    "np.corrcoef는 피어슨 상관계수 행렬을 이용하여 두 변수 간 선형 상관도를 측정함.\n",
    "arr3 변수는 arr1변수의 역순 행렬이므로 -1인 강한 음의 상관관계를 가지며 이를 correcoef로 판별할수있음"
   ],
   "id": "299e79eca06b7176"
  },
  {
   "metadata": {
    "ExecuteTime": {
     "end_time": "2025-09-04T23:58:36.996171Z",
     "start_time": "2025-09-04T23:58:36.992412Z"
    }
   },
   "cell_type": "code",
   "source": [
    "np.ndarray((2,3,4), dtype='int8')\n",
    "\n",
    "#np. ndarray를 이용하여 다차원 행렬을 생성할수 있음."
   ],
   "id": "81d7c15d9c490712",
   "outputs": [
    {
     "data": {
      "text/plain": [
       "array([[[0, 0, 0, 0],\n",
       "        [0, 0, 0, 0],\n",
       "        [0, 0, 0, 0]],\n",
       "\n",
       "       [[0, 0, 0, 0],\n",
       "        [0, 0, 0, 0],\n",
       "        [0, 0, 0, 0]]], dtype=int8)"
      ]
     },
     "execution_count": 104,
     "metadata": {},
     "output_type": "execute_result"
    }
   ],
   "execution_count": 104
  },
  {
   "metadata": {
    "ExecuteTime": {
     "end_time": "2025-09-04T23:59:32.649816Z",
     "start_time": "2025-09-04T23:59:32.646693Z"
    }
   },
   "cell_type": "code",
   "source": "arr1[0:10]",
   "id": "c1a9e85055c6bc7",
   "outputs": [
    {
     "data": {
      "text/plain": [
       "array([0, 1, 2, 3, 4, 5, 6, 7, 8, 9])"
      ]
     },
     "execution_count": 106,
     "metadata": {},
     "output_type": "execute_result"
    }
   ],
   "execution_count": 106
  },
  {
   "metadata": {},
   "cell_type": "markdown",
   "source": "* numpy array에 대한 연산을 시행할경우 루프문 없이도 각 vector에 자동적으로 연산을 수행함",
   "id": "9d9c9d9e566b2258"
  },
  {
   "metadata": {
    "ExecuteTime": {
     "end_time": "2025-09-05T00:00:34.983500Z",
     "start_time": "2025-09-05T00:00:34.978762Z"
    }
   },
   "cell_type": "code",
   "source": "arr1[0:10] * 1.1",
   "id": "ede459905098b437",
   "outputs": [
    {
     "data": {
      "text/plain": [
       "array([0. , 1.1, 2.2, 3.3, 4.4, 5.5, 6.6, 7.7, 8.8, 9.9])"
      ]
     },
     "execution_count": 109,
     "metadata": {},
     "output_type": "execute_result"
    }
   ],
   "execution_count": 109
  },
  {
   "metadata": {
    "ExecuteTime": {
     "end_time": "2025-09-05T00:02:25.335520Z",
     "start_time": "2025-09-05T00:02:25.333657Z"
    }
   },
   "cell_type": "code",
   "source": "arr4 = np.array([0,0,-1,0,0,0,1,0], dtype='int8')",
   "id": "ea41f0425854ae38",
   "outputs": [],
   "execution_count": 115
  },
  {
   "metadata": {
    "ExecuteTime": {
     "end_time": "2025-09-05T00:02:44.550670Z",
     "start_time": "2025-09-05T00:02:44.545905Z"
    }
   },
   "cell_type": "code",
   "source": [
    "arr4.argmax()\n",
    "# array내 가장 큰 vector의 index값을 반환해줌, 제일 작은 값은 argmin을 사용"
   ],
   "id": "f0fcf3dc26ad41c5",
   "outputs": [
    {
     "data": {
      "text/plain": [
       "np.int64(6)"
      ]
     },
     "execution_count": 118,
     "metadata": {},
     "output_type": "execute_result"
    }
   ],
   "execution_count": 118
  },
  {
   "metadata": {},
   "cell_type": "code",
   "outputs": [],
   "execution_count": null,
   "source": "",
   "id": "100bca514dc81afd"
  }
 ],
 "metadata": {
  "kernelspec": {
   "display_name": "Python 3",
   "language": "python",
   "name": "python3"
  },
  "language_info": {
   "codemirror_mode": {
    "name": "ipython",
    "version": 2
   },
   "file_extension": ".py",
   "mimetype": "text/x-python",
   "name": "python",
   "nbconvert_exporter": "python",
   "pygments_lexer": "ipython2",
   "version": "2.7.6"
  }
 },
 "nbformat": 4,
 "nbformat_minor": 5
}
