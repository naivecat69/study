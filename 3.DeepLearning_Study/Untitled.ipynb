{
 "cells": [
  {
   "cell_type": "code",
   "execution_count": 1,
   "id": "741b387e",
   "metadata": {},
   "outputs": [],
   "source": [
    "import numpy as np\n",
    "\n",
    "MORSE = {'A':'.-', 'B':'-...', 'C':'-.-.', 'D':'-..', 'E':'.', 'F':'..-.', # ... 생략\n",
    "         '0':'-----','1':'.----', '2':'..---','3':'...--','4':'....-','5':'.....',\n",
    "         '6':'-....','7':'--...','8':'---..','9':'----.'}\n",
    "\n",
    "def synth_morse(text, fs=8000, f0=600, wpm=20, a=0.9, atk=0.005, dcy=0.005):\n",
    "    # WPM→dit 길이(sec): 표준 근사 T ≈ 1.2 / WPM\n",
    "    T = 1.2 / wpm\n",
    "    tone = lambda dur: np.sin(2*np.pi*f0*np.arange(int(dur*fs))/fs)\n",
    "    env = lambda n: np.concatenate([\n",
    "        np.linspace(0,1,int(atk*fs),endpoint=False),\n",
    "        np.ones(max(n - int((atk+dcy)*fs), 0)),\n",
    "        np.linspace(1,0,int(dcy*fs),endpoint=True)\n",
    "    ])[:n]  # attack/decay 적용\n",
    "\n",
    "    sig = []\n",
    "    for ch in text.upper():\n",
    "        if ch==' ':\n",
    "            # 단어 간 공백: 7T (문자간 3T 포함 규약 감안)\n",
    "            sig.append(np.zeros(int(7*T*fs)))\n",
    "            continue\n",
    "        code = MORSE.get(ch)\n",
    "        if not code: \n",
    "            continue\n",
    "        for i,sym in enumerate(code):\n",
    "            dur = T if sym=='.' else 3*T\n",
    "            tone_seg = tone(dur)\n",
    "            tone_seg = (tone_seg * env(len(tone_seg))) * a\n",
    "            sig.append(tone_seg)\n",
    "            # 요소 간 공백 T\n",
    "            sig.append(np.zeros(int(T*fs)))\n",
    "        # 문자 간 추가 공백 3T - 마지막 요소 공백 T 보정 → 2T\n",
    "        sig.append(np.zeros(int(2*T*fs)))\n",
    "    return np.concatenate(sig) if sig else np.zeros(0)\n"
   ]
  }
 ],
 "metadata": {
  "kernelspec": {
   "display_name": "Python 3 (ipykernel)",
   "language": "python",
   "name": "python3"
  },
  "language_info": {
   "codemirror_mode": {
    "name": "ipython",
    "version": 3
   },
   "file_extension": ".py",
   "mimetype": "text/x-python",
   "name": "python",
   "nbconvert_exporter": "python",
   "pygments_lexer": "ipython3",
   "version": "3.11.5"
  }
 },
 "nbformat": 4,
 "nbformat_minor": 5
}
