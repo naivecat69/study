{
 "cells": [
  {
   "cell_type": "code",
   "execution_count": 1,
   "id": "97ba2c33",
   "metadata": {},
   "outputs": [
    {
     "name": "stderr",
     "output_type": "stream",
     "text": [
      "C:\\Users\\likoh\\anaconda3\\Lib\\site-packages\\pandas\\core\\arrays\\masked.py:61: UserWarning: Pandas requires version '1.3.6' or newer of 'bottleneck' (version '1.3.5' currently installed).\n",
      "  from pandas.core import (\n"
     ]
    }
   ],
   "source": [
    "import pandas as pd"
   ]
  },
  {
   "cell_type": "code",
   "execution_count": 8,
   "id": "ab6c8876",
   "metadata": {},
   "outputs": [],
   "source": [
    "a = pd.read_csv('feed.csv')"
   ]
  },
  {
   "cell_type": "code",
   "execution_count": 9,
   "id": "e399f843",
   "metadata": {},
   "outputs": [
    {
     "data": {
      "text/html": [
       "<div>\n",
       "<style scoped>\n",
       "    .dataframe tbody tr th:only-of-type {\n",
       "        vertical-align: middle;\n",
       "    }\n",
       "\n",
       "    .dataframe tbody tr th {\n",
       "        vertical-align: top;\n",
       "    }\n",
       "\n",
       "    .dataframe thead th {\n",
       "        text-align: right;\n",
       "    }\n",
       "</style>\n",
       "<table border=\"1\" class=\"dataframe\">\n",
       "  <thead>\n",
       "    <tr style=\"text-align: right;\">\n",
       "      <th></th>\n",
       "      <th>file_name</th>\n",
       "      <th>contents</th>\n",
       "    </tr>\n",
       "  </thead>\n",
       "  <tbody>\n",
       "    <tr>\n",
       "      <th>0</th>\n",
       "      <td>250805_20WPM.mp3</td>\n",
       "      <td>= NOW 20 WPM = TEXT IS FROM AUGUST 2023 QST PA...</td>\n",
       "    </tr>\n",
       "    <tr>\n",
       "      <th>1</th>\n",
       "      <td>250805_40WPM.mp3</td>\n",
       "      <td>= NOW 40 WPM = TWEAKING THE VARIOUS ADJUSTMENT...</td>\n",
       "    </tr>\n",
       "    <tr>\n",
       "      <th>2</th>\n",
       "      <td>240109_40WPM.mp3</td>\n",
       "      <td>= NOW 40 WPM = HOWEVER, THE MANUFACTURER, HAD ...</td>\n",
       "    </tr>\n",
       "    <tr>\n",
       "      <th>3</th>\n",
       "      <td>250107_20WPM.mp3</td>\n",
       "      <td>= NOW 20 WPM = TEXT IS FROM MARCH 2023 QST PAG...</td>\n",
       "    </tr>\n",
       "    <tr>\n",
       "      <th>4</th>\n",
       "      <td>250121_20WPM.mp3</td>\n",
       "      <td>= NOW 20 WPM = TEXT IS FROM APRIL 2023 QST PAG...</td>\n",
       "    </tr>\n",
       "    <tr>\n",
       "      <th>5</th>\n",
       "      <td>250722_20WPM.mp3</td>\n",
       "      <td>= NOW 20 WPM = TEXT IS FROM AUGUST 2023 QST PA...</td>\n",
       "    </tr>\n",
       "  </tbody>\n",
       "</table>\n",
       "</div>"
      ],
      "text/plain": [
       "          file_name                                           contents\n",
       "0  250805_20WPM.mp3  = NOW 20 WPM = TEXT IS FROM AUGUST 2023 QST PA...\n",
       "1  250805_40WPM.mp3  = NOW 40 WPM = TWEAKING THE VARIOUS ADJUSTMENT...\n",
       "2  240109_40WPM.mp3  = NOW 40 WPM = HOWEVER, THE MANUFACTURER, HAD ...\n",
       "3  250107_20WPM.mp3  = NOW 20 WPM = TEXT IS FROM MARCH 2023 QST PAG...\n",
       "4  250121_20WPM.mp3  = NOW 20 WPM = TEXT IS FROM APRIL 2023 QST PAG...\n",
       "5  250722_20WPM.mp3  = NOW 20 WPM = TEXT IS FROM AUGUST 2023 QST PA..."
      ]
     },
     "execution_count": 9,
     "metadata": {},
     "output_type": "execute_result"
    }
   ],
   "source": [
    "a"
   ]
  }
 ],
 "metadata": {
  "kernelspec": {
   "display_name": "Python 3 (ipykernel)",
   "language": "python",
   "name": "python3"
  },
  "language_info": {
   "codemirror_mode": {
    "name": "ipython",
    "version": 3
   },
   "file_extension": ".py",
   "mimetype": "text/x-python",
   "name": "python",
   "nbconvert_exporter": "python",
   "pygments_lexer": "ipython3",
   "version": "3.11.5"
  }
 },
 "nbformat": 4,
 "nbformat_minor": 5
}
