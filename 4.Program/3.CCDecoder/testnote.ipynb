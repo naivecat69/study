{
 "cells": [
  {
   "metadata": {},
   "cell_type": "markdown",
   "source": [
    "s샘플용 파일 생성다항식\n",
    "\n",
    "g1(x) = X^3 + X + 1\n",
    "\n",
    "g2(x) = X^2 + 1"
   ],
   "id": "c026c38db65d49c5"
  },
  {
   "metadata": {
    "ExecuteTime": {
     "end_time": "2025-10-08T03:32:34.989635Z",
     "start_time": "2025-10-08T03:32:34.985026Z"
    }
   },
   "cell_type": "code",
   "source": [
    "import numpy as np\n",
    "\n",
    "with open('decode_nice.bin' ,'rb') as f:\n",
    "    data = f.read()"
   ],
   "id": "be0af45503acf4fd",
   "outputs": [],
   "execution_count": 219
  },
  {
   "metadata": {
    "ExecuteTime": {
     "end_time": "2025-10-08T02:53:29.216715Z",
     "start_time": "2025-10-08T02:53:29.211007Z"
    }
   },
   "cell_type": "code",
   "source": [
    "with open('encoded_zero_bits_test1.bin' ,'rb') as f:\n",
    "    data = f.read()\n",
    "\n",
    "data"
   ],
   "id": "8313c5e7a052e347",
   "outputs": [
    {
     "data": {
      "text/plain": [
       "b'\\xb6\\xaa\\xaa\\xaa\\xaa\\xaa\\xaa\\xaa\\xaa\\xaa\\xaa\\xaa\\xaa\\xaa\\xaa\\xaa\\xaa\\xaa\\xaa\\xaa\\xaa\\xaa\\xaa\\xaa\\xaa\\x1c'"
      ]
     },
     "execution_count": 202,
     "metadata": {},
     "output_type": "execute_result"
    }
   ],
   "execution_count": 202
  },
  {
   "metadata": {
    "ExecuteTime": {
     "end_time": "2025-10-08T03:32:37.528662Z",
     "start_time": "2025-10-08T03:32:37.524443Z"
    }
   },
   "cell_type": "code",
   "source": [
    "plain_text = str()\n",
    "\n",
    "for i in range(len(data)):\n",
    "    plain_text += chr(data[i])"
   ],
   "id": "5dbdac271489eb50",
   "outputs": [],
   "execution_count": 220
  },
  {
   "metadata": {
    "ExecuteTime": {
     "end_time": "2025-10-08T03:32:38.745946Z",
     "start_time": "2025-10-08T03:32:38.740625Z"
    }
   },
   "cell_type": "code",
   "source": "plain_text",
   "id": "2b2a383e48de7ea7",
   "outputs": [
    {
     "data": {
      "text/plain": [
       "'Nice To meet you!\\x00'"
      ]
     },
     "execution_count": 221,
     "metadata": {},
     "output_type": "execute_result"
    }
   ],
   "execution_count": 221
  },
  {
   "metadata": {
    "ExecuteTime": {
     "end_time": "2025-10-08T03:31:59.055983Z",
     "start_time": "2025-10-08T03:31:59.050094Z"
    }
   },
   "cell_type": "code",
   "source": "data",
   "id": "26396a81e228c3aa",
   "outputs": [
    {
     "data": {
      "text/plain": [
       "b'Hello World!\\x00'"
      ]
     },
     "execution_count": 218,
     "metadata": {},
     "output_type": "execute_result"
    }
   ],
   "execution_count": 218
  },
  {
   "metadata": {
    "ExecuteTime": {
     "end_time": "2025-10-08T02:43:58.567086Z",
     "start_time": "2025-10-08T02:43:58.561825Z"
    }
   },
   "cell_type": "code",
   "source": "np.fromfile('test.bin', dtype=np.uint8)",
   "id": "528bdfcd3ef874d2",
   "outputs": [
    {
     "data": {
      "text/plain": [
       "array([0, 0, 0, 0, 0, 0, 0, 0, 0, 0, 0, 0, 0], dtype=uint8)"
      ]
     },
     "execution_count": 193,
     "metadata": {},
     "output_type": "execute_result"
    }
   ],
   "execution_count": 193
  }
 ],
 "metadata": {
  "kernelspec": {
   "display_name": "Python 3",
   "language": "python",
   "name": "python3"
  },
  "language_info": {
   "codemirror_mode": {
    "name": "ipython",
    "version": 2
   },
   "file_extension": ".py",
   "mimetype": "text/x-python",
   "name": "python",
   "nbconvert_exporter": "python",
   "pygments_lexer": "ipython2",
   "version": "2.7.6"
  }
 },
 "nbformat": 4,
 "nbformat_minor": 5
}
