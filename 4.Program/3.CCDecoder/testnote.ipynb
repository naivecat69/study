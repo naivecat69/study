{
 "cells": [
  {
   "metadata": {},
   "cell_type": "markdown",
   "source": [
    "샘플용 파일 생성다항식\n",
    "\n",
    "g1(x) = X^3 + X + 1\n",
    "\n",
    "g2(x) = X^2 + 1"
   ],
   "id": "c026c38db65d49c5"
  },
  {
   "cell_type": "code",
   "id": "initial_id",
   "metadata": {
    "collapsed": true,
    "ExecuteTime": {
     "end_time": "2025-10-04T02:02:48.557807Z",
     "start_time": "2025-10-04T02:02:48.505074Z"
    }
   },
   "source": [
    "import numpy as np\n",
    "from itertools import product"
   ],
   "outputs": [],
   "execution_count": 1
  },
  {
   "metadata": {
    "ExecuteTime": {
     "end_time": "2025-10-04T02:18:04.069334Z",
     "start_time": "2025-10-04T02:18:04.065206Z"
    }
   },
   "cell_type": "code",
   "source": "a = np.array([[1,2,3],[4,2,3]])",
   "id": "fb04caa5773d020a",
   "outputs": [],
   "execution_count": 8
  },
  {
   "metadata": {
    "ExecuteTime": {
     "end_time": "2025-10-04T02:18:04.256800Z",
     "start_time": "2025-10-04T02:18:04.254515Z"
    }
   },
   "cell_type": "code",
   "source": "a[1]",
   "id": "ace9aae25a39281c",
   "outputs": [
    {
     "data": {
      "text/plain": [
       "array([4, 2, 3])"
      ]
     },
     "execution_count": 9,
     "metadata": {},
     "output_type": "execute_result"
    }
   ],
   "execution_count": 9
  },
  {
   "metadata": {
    "ExecuteTime": {
     "end_time": "2025-10-04T06:39:49.455545Z",
     "start_time": "2025-10-04T06:39:49.450946Z"
    }
   },
   "cell_type": "code",
   "source": [
    "with open('', 'rb') as f:\n",
    "    data = f.read()"
   ],
   "id": "30c3961e4f15cf94",
   "outputs": [],
   "execution_count": 27
  },
  {
   "metadata": {},
   "cell_type": "markdown",
   "source": "",
   "id": "d0eb354de3530bc2"
  },
  {
   "metadata": {
    "ExecuteTime": {
     "end_time": "2025-10-04T06:40:45.950291Z",
     "start_time": "2025-10-04T06:40:45.946775Z"
    }
   },
   "cell_type": "code",
   "source": "pkt = data[0:8].hex()",
   "id": "f18fbc62e3fc68e1",
   "outputs": [],
   "execution_count": 29
  },
  {
   "metadata": {
    "ExecuteTime": {
     "end_time": "2025-10-04T06:40:51.567012Z",
     "start_time": "2025-10-04T06:40:51.564815Z"
    }
   },
   "cell_type": "code",
   "source": "pkt.encode()",
   "id": "9f3a1beb1fb66012",
   "outputs": [
    {
     "data": {
      "text/plain": [
       "b'784b924446506d46'"
      ]
     },
     "execution_count": 30,
     "metadata": {},
     "output_type": "execute_result"
    }
   ],
   "execution_count": 30
  },
  {
   "metadata": {},
   "cell_type": "code",
   "outputs": [],
   "execution_count": null,
   "source": [
    "class CCdecoder:\n",
    "    '''\n",
    "    뚝딱 짜본 CCDecode (rate = 1/2 전용)입니다\n",
    "    '''\n",
    "    def __init__(self, e_bit):\n",
    "        self.e_bit = e_bit\n",
    "        self.p1 = None\n",
    "        self.p2 = None\n"
   ],
   "id": "9a2b7d8545cd1dcb"
  },
  {
   "metadata": {
    "ExecuteTime": {
     "end_time": "2025-10-04T01:03:26.674472Z",
     "start_time": "2025-10-04T01:03:26.638193Z"
    }
   },
   "cell_type": "code",
   "source": [
    "import numpy as np\n",
    "from itertools import product\n",
    "\n",
    "def read_bits_from_file(filename, max_bits=None):\n",
    "    bits = []\n",
    "    with open(filename, \"rb\") as f:\n",
    "        data = f.read()\n",
    "        for byte in data:\n",
    "            for i in range(8):\n",
    "                bits.append((byte >> (7-i)) & 1)\n",
    "    if max_bits is not None:\n",
    "        bits = bits[:max_bits]\n",
    "    return np.array(bits, dtype=np.uint8)\n",
    "\n",
    "def conv_encode(u_bits, G, K):\n",
    "    \"\"\"rate-1/2 conv encoder → interleaved 출력 [y0,y1,y0,y1,...]\"\"\"\n",
    "    state = 0\n",
    "    y = []\n",
    "    for b in u_bits:\n",
    "        state = ((b << (K-1)) | state) & ((1<<K)-1)\n",
    "        outs = []\n",
    "        for g in G:\n",
    "            acc = 0\n",
    "            tmp = state\n",
    "            for i in range(K):\n",
    "                if (g >> i) & 1:\n",
    "                    acc ^= (tmp >> (K-1-i)) & 1\n",
    "            outs.append(acc)\n",
    "        y.extend(outs)\n",
    "        state >>= 1\n",
    "    return np.array(y, dtype=np.uint8)\n",
    "\n",
    "def bits_to_poly(mask_bits):\n",
    "    val = 0\n",
    "    for i,b in enumerate(mask_bits[::-1]):\n",
    "        if b: val |= (1<<i)\n",
    "    return val\n",
    "\n",
    "def all_generators_K(K):\n",
    "    \"\"\"길이 K 생성다항식 후보 (MSB=1)\"\"\"\n",
    "    cands = []\n",
    "    for mask in product([0,1], repeat=K):\n",
    "        if mask[0] == 1:\n",
    "            cands.append(bits_to_poly(mask))\n",
    "    return cands\n",
    "\n",
    "def score_match(y_ref, y_obs):\n",
    "    \"\"\"interleaved 시퀀스 매치율\"\"\"\n",
    "    L = min(len(y_ref), len(y_obs))\n",
    "    return np.sum(y_ref[:L] == y_obs[:L]) / L\n",
    "\n",
    "def blind_search_generators(y_obs, K=4, trial_len=200):\n",
    "    \"\"\"출력 비트열 하나만으로 rate-1/2 생성다항식 추정\"\"\"\n",
    "    np.random.seed(0)\n",
    "    u_trial = np.random.randint(0,2,trial_len)\n",
    "\n",
    "    best = {\"g1\":None,\"g2\":None,\"score\":-1}\n",
    "    gens = all_generators_K(K)\n",
    "\n",
    "    for g1 in gens:\n",
    "        for g2 in gens:\n",
    "            if g1 == g2: continue\n",
    "            y_ref = conv_encode(u_trial, [g1,g2], K)\n",
    "            sc = score_match(y_ref, y_obs)\n",
    "            if sc > best[\"score\"]:\n",
    "                best.update({\"g1\":g1,\"g2\":g2,\"score\":sc})\n",
    "    return best\n",
    "\n",
    "# -------------------\n",
    "# 사용 예시\n",
    "# -------------------\n",
    "\n",
    "y_obs = read_bits_from_file(\"sample2_hello_world.bin\")  # interleaved 출력 파일\n",
    "K = 4   # constraint length\n",
    "\n",
    "result = blind_search_generators(y_obs, K=K, trial_len=500)\n",
    "print(\"추정된 생성다항식 g1,g2 (octal):\", oct(result[\"g1\"]), oct(result[\"g2\"]))\n",
    "print(\"매치율:\", result[\"score\"])\n"
   ],
   "id": "96fc3607c68391ef",
   "outputs": [
    {
     "name": "stdout",
     "output_type": "stream",
     "text": [
      "추정된 생성다항식 g1,g2 (octal): 0o14 0o12\n",
      "매치율: 0.5572916666666666\n"
     ]
    }
   ],
   "execution_count": 14
  },
  {
   "metadata": {
    "ExecuteTime": {
     "end_time": "2025-10-04T01:03:41.285144Z",
     "start_time": "2025-10-04T01:03:41.283028Z"
    }
   },
   "cell_type": "code",
   "source": "bin(0o12)",
   "id": "200e5afdbfeab07d",
   "outputs": [
    {
     "data": {
      "text/plain": [
       "'0b1010'"
      ]
     },
     "execution_count": 16,
     "metadata": {},
     "output_type": "execute_result"
    }
   ],
   "execution_count": 16
  },
  {
   "metadata": {},
   "cell_type": "code",
   "outputs": [],
   "execution_count": null,
   "source": "",
   "id": "ec84ce837618af14"
  }
 ],
 "metadata": {
  "kernelspec": {
   "display_name": "Python 3",
   "language": "python",
   "name": "python3"
  },
  "language_info": {
   "codemirror_mode": {
    "name": "ipython",
    "version": 2
   },
   "file_extension": ".py",
   "mimetype": "text/x-python",
   "name": "python",
   "nbconvert_exporter": "python",
   "pygments_lexer": "ipython2",
   "version": "2.7.6"
  }
 },
 "nbformat": 4,
 "nbformat_minor": 5
}
