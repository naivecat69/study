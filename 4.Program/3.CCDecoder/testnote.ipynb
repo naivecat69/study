{
 "cells": [
  {
   "metadata": {},
   "cell_type": "markdown",
   "source": [
    "샘플용 파일 생성다항식\n",
    "\n",
    "g1(x) = X^3 + X + 1\n",
    "\n",
    "g2(x) = X^2 + 1"
   ],
   "id": "c026c38db65d49c5"
  },
  {
   "metadata": {
    "ExecuteTime": {
     "end_time": "2025-10-05T11:21:42.223793Z",
     "start_time": "2025-10-05T11:21:42.219768Z"
    }
   },
   "cell_type": "code",
   "source": [
    "with open('decoded_by_hardencoded_helloworld_test2.bin' ,'rb') as f:\n",
    "    data = f.read()"
   ],
   "id": "be0af45503acf4fd",
   "outputs": [],
   "execution_count": 69
  },
  {
   "metadata": {
    "ExecuteTime": {
     "end_time": "2025-10-05T11:21:42.351456Z",
     "start_time": "2025-10-05T11:21:42.349770Z"
    }
   },
   "cell_type": "code",
   "source": [
    "plain_text = str()\n",
    "\n",
    "for i in range(len(data)):\n",
    "    plain_text += chr(data[i])"
   ],
   "id": "5dbdac271489eb50",
   "outputs": [],
   "execution_count": 70
  },
  {
   "metadata": {
    "ExecuteTime": {
     "end_time": "2025-10-05T11:21:42.493411Z",
     "start_time": "2025-10-05T11:21:42.490989Z"
    }
   },
   "cell_type": "code",
   "source": "plain_text",
   "id": "2b2a383e48de7ea7",
   "outputs": [
    {
     "data": {
      "text/plain": [
       "'\\x8f?F\\x1b!\\x03Ô!~F\\x1f· '"
      ]
     },
     "execution_count": 71,
     "metadata": {},
     "output_type": "execute_result"
    }
   ],
   "execution_count": 71
  },
  {
   "metadata": {
    "ExecuteTime": {
     "end_time": "2025-10-05T11:21:42.659585Z",
     "start_time": "2025-10-05T11:21:42.656786Z"
    }
   },
   "cell_type": "code",
   "source": "data",
   "id": "26396a81e228c3aa",
   "outputs": [
    {
     "data": {
      "text/plain": [
       "b'\\x8f?F\\x1b!\\x03\\xd4!~F\\x1f\\xb7 '"
      ]
     },
     "execution_count": 72,
     "metadata": {},
     "output_type": "execute_result"
    }
   ],
   "execution_count": 72
  },
  {
   "metadata": {
    "ExecuteTime": {
     "end_time": "2025-10-05T11:19:42.355209Z",
     "start_time": "2025-10-05T11:19:42.353047Z"
    }
   },
   "cell_type": "code",
   "source": "",
   "id": "860929507922f723",
   "outputs": [],
   "execution_count": null
  },
  {
   "metadata": {
    "ExecuteTime": {
     "end_time": "2025-10-06T02:01:35.935311Z",
     "start_time": "2025-10-06T02:01:35.930904Z"
    }
   },
   "cell_type": "code",
   "source": [
    "def _oct2bin(octal_poly, K):\n",
    "    \"\"\"MATLAB 스타일: 옥탈 다항식을 K 길이의 이진 리스트(MSB-first)로 변환합니다.\"\"\"\n",
    "    # bin(int(string, base))[2:]를 통해 '0o'와 '0b' 접두사를 제거하고 이진 문자열을 얻습니다.\n",
    "    bits_str = bin(int(str(octal_poly), 8))[2:]\n",
    "\n",
    "    if len(bits_str) > K:\n",
    "        raise ValueError(f\"옥탈 {octal_poly}의 길이가 K={K}를 초과합니다.\")\n",
    "\n",
    "    padded_bits = [0] * (K - len(bits_str)) + [int(b) for b in bits_str]\n",
    "    return padded_bits"
   ],
   "id": "9a226dae155b22c0",
   "outputs": [],
   "execution_count": 88
  },
  {
   "metadata": {
    "ExecuteTime": {
     "end_time": "2025-10-06T02:03:14.627661Z",
     "start_time": "2025-10-06T02:03:14.625337Z"
    }
   },
   "cell_type": "code",
   "source": "_oct2bin('0o11', 4)",
   "id": "d6ce005b168f4b0d",
   "outputs": [
    {
     "data": {
      "text/plain": [
       "[1, 0, 0, 1]"
      ]
     },
     "execution_count": 91,
     "metadata": {},
     "output_type": "execute_result"
    }
   ],
   "execution_count": 91
  },
  {
   "metadata": {
    "ExecuteTime": {
     "end_time": "2025-10-06T02:04:06.126525Z",
     "start_time": "2025-10-06T02:04:06.122370Z"
    }
   },
   "cell_type": "code",
   "source": "type(_oct2bin('0o5', 4))",
   "id": "9a178b6cea2fe923",
   "outputs": [
    {
     "data": {
      "text/plain": [
       "list"
      ]
     },
     "execution_count": 96,
     "metadata": {},
     "output_type": "execute_result"
    }
   ],
   "execution_count": 96
  },
  {
   "metadata": {
    "ExecuteTime": {
     "end_time": "2025-10-06T02:31:13.536073Z",
     "start_time": "2025-10-06T02:31:13.530724Z"
    }
   },
   "cell_type": "code",
   "source": "bin(0o171)",
   "id": "722ad694cfe6a726",
   "outputs": [
    {
     "data": {
      "text/plain": [
       "'0b1111001'"
      ]
     },
     "execution_count": 99,
     "metadata": {},
     "output_type": "execute_result"
    }
   ],
   "execution_count": 99
  },
  {
   "metadata": {
    "ExecuteTime": {
     "end_time": "2025-10-06T03:04:06.516758Z",
     "start_time": "2025-10-06T03:04:06.514110Z"
    }
   },
   "cell_type": "code",
   "source": "a = '1,1,1,0,0,1'",
   "id": "772bfe4b47be4984",
   "outputs": [],
   "execution_count": 104
  },
  {
   "metadata": {
    "ExecuteTime": {
     "end_time": "2025-10-06T03:05:18.743504Z",
     "start_time": "2025-10-06T03:05:18.740569Z"
    }
   },
   "cell_type": "code",
   "source": "b = list(map(int, a.split(',')))",
   "id": "50f40a3461a0fae5",
   "outputs": [],
   "execution_count": 114
  },
  {
   "metadata": {
    "ExecuteTime": {
     "end_time": "2025-10-06T03:05:19.538599Z",
     "start_time": "2025-10-06T03:05:19.535353Z"
    }
   },
   "cell_type": "code",
   "source": "b",
   "id": "a2ac8d10f2a64d51",
   "outputs": [
    {
     "data": {
      "text/plain": [
       "[1, 1, 1, 0, 0, 1]"
      ]
     },
     "execution_count": 115,
     "metadata": {},
     "output_type": "execute_result"
    }
   ],
   "execution_count": 115
  }
 ],
 "metadata": {
  "kernelspec": {
   "display_name": "Python 3",
   "language": "python",
   "name": "python3"
  },
  "language_info": {
   "codemirror_mode": {
    "name": "ipython",
    "version": 2
   },
   "file_extension": ".py",
   "mimetype": "text/x-python",
   "name": "python",
   "nbconvert_exporter": "python",
   "pygments_lexer": "ipython2",
   "version": "2.7.6"
  }
 },
 "nbformat": 4,
 "nbformat_minor": 5
}
